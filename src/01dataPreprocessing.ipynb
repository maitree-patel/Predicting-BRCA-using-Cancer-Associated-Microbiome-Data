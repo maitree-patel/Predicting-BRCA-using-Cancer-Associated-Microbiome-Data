{
 "cells": [
  {
   "cell_type": "markdown",
   "id": "c237d696",
   "metadata": {},
   "source": [
    "# Data Preprocessing\n",
    "1. Filter and manipulate merged data to get data matrix for prediction\n",
    "2. Perform normalization of raw microbial read counts.\n",
    "\n",
    "Output files:\n",
    "1. brca_vs_others.csv\n",
    "2. brca_vs_normal_raw.csv\n",
    "3. brca_vs_normal.csv"
   ]
  },
  {
   "cell_type": "code",
   "execution_count": 59,
   "id": "07b3db00",
   "metadata": {},
   "outputs": [],
   "source": [
    "import pandas as pd\n",
    "import numpy as np\n",
    "import matplotlib.pyplot as plt\n",
    "import warnings\n",
    "warnings.filterwarnings('ignore')"
   ]
  },
  {
   "cell_type": "markdown",
   "id": "60f44ae6",
   "metadata": {},
   "source": [
    "## Data Pre-Processing for BRCA vs Other Cancers "
   ]
  },
  {
   "cell_type": "code",
   "execution_count": 60,
   "id": "fe2f366c",
   "metadata": {},
   "outputs": [
    {
     "data": {
      "text/html": [
       "<div>\n",
       "<style scoped>\n",
       "    .dataframe tbody tr th:only-of-type {\n",
       "        vertical-align: middle;\n",
       "    }\n",
       "\n",
       "    .dataframe tbody tr th {\n",
       "        vertical-align: top;\n",
       "    }\n",
       "\n",
       "    .dataframe thead th {\n",
       "        text-align: right;\n",
       "    }\n",
       "</style>\n",
       "<table border=\"1\" class=\"dataframe\">\n",
       "  <thead>\n",
       "    <tr style=\"text-align: right;\">\n",
       "      <th></th>\n",
       "      <th>sampleid</th>\n",
       "      <th>Pneumocystis</th>\n",
       "      <th>Candida</th>\n",
       "      <th>Saccharomyces</th>\n",
       "      <th>Fusarium</th>\n",
       "      <th>Cyphellophora</th>\n",
       "      <th>Penicillium</th>\n",
       "      <th>Aspergillus</th>\n",
       "      <th>Malassezia</th>\n",
       "      <th>Jonquetella</th>\n",
       "      <th>...</th>\n",
       "      <th>Phikzvirus</th>\n",
       "      <th>Tunavirus</th>\n",
       "      <th>Rhadinovirus</th>\n",
       "      <th>Elvirus</th>\n",
       "      <th>Chivirus</th>\n",
       "      <th>Jiaodavirus</th>\n",
       "      <th>Webervirus</th>\n",
       "      <th>Vectrevirus</th>\n",
       "      <th>Alphapolyomavirus</th>\n",
       "      <th>Fromanvirus</th>\n",
       "    </tr>\n",
       "  </thead>\n",
       "  <tbody>\n",
       "    <tr>\n",
       "      <th>0</th>\n",
       "      <td>13722.58cfa82ee4b0c9d6adf6afe3</td>\n",
       "      <td>0</td>\n",
       "      <td>0</td>\n",
       "      <td>0</td>\n",
       "      <td>0</td>\n",
       "      <td>0</td>\n",
       "      <td>0</td>\n",
       "      <td>1</td>\n",
       "      <td>2</td>\n",
       "      <td>0</td>\n",
       "      <td>...</td>\n",
       "      <td>0</td>\n",
       "      <td>0</td>\n",
       "      <td>0</td>\n",
       "      <td>0</td>\n",
       "      <td>0</td>\n",
       "      <td>0</td>\n",
       "      <td>0</td>\n",
       "      <td>0</td>\n",
       "      <td>0</td>\n",
       "      <td>0</td>\n",
       "    </tr>\n",
       "    <tr>\n",
       "      <th>1</th>\n",
       "      <td>13722.58cfa82ee4b0c9d6adf6aeb0</td>\n",
       "      <td>0</td>\n",
       "      <td>1</td>\n",
       "      <td>0</td>\n",
       "      <td>4</td>\n",
       "      <td>0</td>\n",
       "      <td>0</td>\n",
       "      <td>1</td>\n",
       "      <td>14</td>\n",
       "      <td>0</td>\n",
       "      <td>...</td>\n",
       "      <td>0</td>\n",
       "      <td>0</td>\n",
       "      <td>0</td>\n",
       "      <td>0</td>\n",
       "      <td>0</td>\n",
       "      <td>0</td>\n",
       "      <td>0</td>\n",
       "      <td>0</td>\n",
       "      <td>0</td>\n",
       "      <td>0</td>\n",
       "    </tr>\n",
       "    <tr>\n",
       "      <th>2</th>\n",
       "      <td>13722.58cfa82ee4b0c9d6adf6b1e4</td>\n",
       "      <td>0</td>\n",
       "      <td>16</td>\n",
       "      <td>1</td>\n",
       "      <td>0</td>\n",
       "      <td>0</td>\n",
       "      <td>0</td>\n",
       "      <td>0</td>\n",
       "      <td>93</td>\n",
       "      <td>0</td>\n",
       "      <td>...</td>\n",
       "      <td>0</td>\n",
       "      <td>0</td>\n",
       "      <td>0</td>\n",
       "      <td>0</td>\n",
       "      <td>0</td>\n",
       "      <td>0</td>\n",
       "      <td>0</td>\n",
       "      <td>0</td>\n",
       "      <td>0</td>\n",
       "      <td>0</td>\n",
       "    </tr>\n",
       "    <tr>\n",
       "      <th>3</th>\n",
       "      <td>13722.58cfa830e4b0c9d6adf6bd98</td>\n",
       "      <td>0</td>\n",
       "      <td>0</td>\n",
       "      <td>0</td>\n",
       "      <td>0</td>\n",
       "      <td>0</td>\n",
       "      <td>0</td>\n",
       "      <td>0</td>\n",
       "      <td>0</td>\n",
       "      <td>0</td>\n",
       "      <td>...</td>\n",
       "      <td>0</td>\n",
       "      <td>0</td>\n",
       "      <td>0</td>\n",
       "      <td>0</td>\n",
       "      <td>0</td>\n",
       "      <td>0</td>\n",
       "      <td>0</td>\n",
       "      <td>0</td>\n",
       "      <td>0</td>\n",
       "      <td>0</td>\n",
       "    </tr>\n",
       "    <tr>\n",
       "      <th>4</th>\n",
       "      <td>13767.58cfa83be4b0c9d6adf72130</td>\n",
       "      <td>0</td>\n",
       "      <td>0</td>\n",
       "      <td>0</td>\n",
       "      <td>0</td>\n",
       "      <td>0</td>\n",
       "      <td>0</td>\n",
       "      <td>0</td>\n",
       "      <td>0</td>\n",
       "      <td>0</td>\n",
       "      <td>...</td>\n",
       "      <td>0</td>\n",
       "      <td>0</td>\n",
       "      <td>0</td>\n",
       "      <td>0</td>\n",
       "      <td>0</td>\n",
       "      <td>0</td>\n",
       "      <td>0</td>\n",
       "      <td>0</td>\n",
       "      <td>0</td>\n",
       "      <td>0</td>\n",
       "    </tr>\n",
       "  </tbody>\n",
       "</table>\n",
       "<p>5 rows × 295 columns</p>\n",
       "</div>"
      ],
      "text/plain": [
       "                         sampleid  Pneumocystis  Candida  Saccharomyces  \\\n",
       "0  13722.58cfa82ee4b0c9d6adf6afe3             0        0              0   \n",
       "1  13722.58cfa82ee4b0c9d6adf6aeb0             0        1              0   \n",
       "2  13722.58cfa82ee4b0c9d6adf6b1e4             0       16              1   \n",
       "3  13722.58cfa830e4b0c9d6adf6bd98             0        0              0   \n",
       "4  13767.58cfa83be4b0c9d6adf72130             0        0              0   \n",
       "\n",
       "   Fusarium  Cyphellophora  Penicillium  Aspergillus  Malassezia  Jonquetella  \\\n",
       "0         0              0            0            1           2            0   \n",
       "1         4              0            0            1          14            0   \n",
       "2         0              0            0            0          93            0   \n",
       "3         0              0            0            0           0            0   \n",
       "4         0              0            0            0           0            0   \n",
       "\n",
       "   ...  Phikzvirus  Tunavirus  Rhadinovirus  Elvirus  Chivirus  Jiaodavirus  \\\n",
       "0  ...           0          0             0        0         0            0   \n",
       "1  ...           0          0             0        0         0            0   \n",
       "2  ...           0          0             0        0         0            0   \n",
       "3  ...           0          0             0        0         0            0   \n",
       "4  ...           0          0             0        0         0            0   \n",
       "\n",
       "   Webervirus  Vectrevirus  Alphapolyomavirus  Fromanvirus  \n",
       "0           0            0                  0            0  \n",
       "1           0            0                  0            0  \n",
       "2           0            0                  0            0  \n",
       "3           0            0                  0            0  \n",
       "4           0            0                  0            0  \n",
       "\n",
       "[5 rows x 295 columns]"
      ]
     },
     "execution_count": 60,
     "metadata": {},
     "output_type": "execute_result"
    }
   ],
   "source": [
    "mergedData = pd.read_csv(\"mergedDataFull.csv\")\n",
    "mergedData.iloc[:, 0:295].head()"
   ]
  },
  {
   "cell_type": "code",
   "execution_count": 61,
   "id": "a92bba7d",
   "metadata": {},
   "outputs": [],
   "source": [
    "#coding BRCA and other cancer types\n",
    "mergedData['disease_type'] = mergedData['disease_type'].apply(lambda x: 'BRCA' if x == 'Breast Invasive Carcinoma' else 'Other')"
   ]
  },
  {
   "cell_type": "code",
   "execution_count": 64,
   "id": "8886bbda",
   "metadata": {},
   "outputs": [
    {
     "name": "stdout",
     "output_type": "stream",
     "text": [
      "Other    7523\n",
      "BRCA      304\n",
      "Name: disease_type, dtype: int64\n"
     ]
    },
    {
     "data": {
      "text/plain": [
       "([0, 1], [Text(0, 0, 'Other'), Text(1, 0, 'BRCA')])"
      ]
     },
     "execution_count": 64,
     "metadata": {},
     "output_type": "execute_result"
    },
    {
     "data": {
      "image/png": "[encoded data removed]",
      "text/plain": [
       "<Figure size 640x480 with 1 Axes>"
      ]
     },
     "metadata": {},
     "output_type": "display_data"
    }
   ],
   "source": [
    "sampleCounts = mergedData['disease_type'].value_counts()\n",
    "print(sampleCounts)\n",
    "plt.bar(sampleCounts.index, \n",
    "        sampleCounts.values,\n",
    "        color = ['cornflowerblue', 'firebrick'])\n",
    "plt.xticks(rotation=90)"
   ]
  },
  {
   "cell_type": "code",
   "execution_count": 65,
   "id": "7ac1382a",
   "metadata": {},
   "outputs": [],
   "source": [
    "#subsetting to include disease_type column along with microbiome matrix\n",
    "brca_vs_others = mergedData.iloc[: , 0:295]\n",
    "brca_vs_others[\"disease_type\"] = mergedData['disease_type']\n",
    "brca_vs_others.set_index('sampleid', \n",
    "                         inplace=True)"
   ]
  },
  {
   "cell_type": "code",
   "execution_count": 66,
   "id": "d6270baa",
   "metadata": {},
   "outputs": [],
   "source": [
    "#normalization\n",
    "brca_vs_others_logNormalized = np.log((brca_vs_others.iloc[: , 0:294].div(brca_vs_others.iloc[: , 0:294].sum(axis=1), axis=0)) + 1e-10)\n",
    "brca_vs_others_logNormalized['disease_type'] = brca_vs_others['disease_type']"
   ]
  },
  {
   "cell_type": "code",
   "execution_count": 67,
   "id": "902b03c1",
   "metadata": {},
   "outputs": [],
   "source": [
    "brca_vs_others_logNormalized.to_csv(\"brca_vs_others.csv\")"
   ]
  },
  {
   "cell_type": "markdown",
   "id": "c8a02b0e",
   "metadata": {},
   "source": [
    "## Data Pre-Processing for BRCA vs Normal"
   ]
  },
  {
   "cell_type": "code",
   "execution_count": 68,
   "id": "5c22c048",
   "metadata": {},
   "outputs": [],
   "source": [
    "mergedData = pd.read_csv(\"mergedDataFull.csv\")"
   ]
  },
  {
   "cell_type": "code",
   "execution_count": 69,
   "id": "9f22bbd8",
   "metadata": {},
   "outputs": [],
   "source": [
    "#brca = mergedData[(mergedData['sample_type'] == \"Blood Derived Normal\") | (mergedData['sample_type'] == \"Solid Tissue Normal\") | (mergedData['sample_type'] == \"Primary Tumor\")]\n",
    "#brca = mergedData[(mergedData['sample_type'] == \"Blood Derived Normal\") | (mergedData['sample_type'] == \"Solid Tissue Normal\") | ((mergedData['sample_type'] == \"Primary Tumor\")&(mergedData['disease_type'] == \"Breast Invasive Carcinoma\"))]\n",
    "#brca = mergedData[(mergedData['data_submitting_center_label'] == \"University of North Carolina\") | \n",
    "#                  (mergedData['data_submitting_center_label'] == \"Washington University School of Medicine\")]\n",
    "\n",
    "#selecting BRCA samples\n",
    "brca = mergedData[mergedData['disease_type'] == \"Breast Invasive Carcinoma\"]"
   ]
  },
  {
   "cell_type": "code",
   "execution_count": 70,
   "id": "52cf62ab",
   "metadata": {},
   "outputs": [
    {
     "name": "stdout",
     "output_type": "stream",
     "text": [
      "          sample_type\n",
      "count             304\n",
      "unique              4\n",
      "top     Primary Tumor\n",
      "freq              174\n",
      "                     disease_type\n",
      "count                         304\n",
      "unique                          1\n",
      "top     Breast Invasive Carcinoma\n",
      "freq                          304\n"
     ]
    },
    {
     "data": {
      "text/plain": [
       "(304, 339)"
      ]
     },
     "execution_count": 70,
     "metadata": {},
     "output_type": "execute_result"
    }
   ],
   "source": [
    "#summarizing data with only BRCA samples\n",
    "print(brca[['sample_type']].describe())\n",
    "print(brca[['disease_type']].describe())\n",
    "brca.shape"
   ]
  },
  {
   "cell_type": "code",
   "execution_count": 73,
   "id": "b9a6eb41",
   "metadata": {},
   "outputs": [
    {
     "name": "stdout",
     "output_type": "stream",
     "text": [
      "Primary Tumor           174\n",
      "Blood Derived Normal    107\n",
      "Solid Tissue Normal      21\n",
      "Metastatic                2\n",
      "Name: sample_type, dtype: int64\n"
     ]
    },
    {
     "data": {
      "text/plain": [
       "([0, 1, 2, 3],\n",
       " [Text(0, 0, 'Primary Tumor'),\n",
       "  Text(1, 0, 'Blood Derived Normal'),\n",
       "  Text(2, 0, 'Solid Tissue Normal'),\n",
       "  Text(3, 0, 'Metastatic')])"
      ]
     },
     "execution_count": 73,
     "metadata": {},
     "output_type": "execute_result"
    },
    {
     "data": {
      "image/png": "[encoded data removed]",
      "text/plain": [
       "<Figure size 640x480 with 1 Axes>"
      ]
     },
     "metadata": {},
     "output_type": "display_data"
    }
   ],
   "source": [
    "sampleCounts = brca['sample_type'].value_counts()\n",
    "print(sampleCounts)\n",
    "plt.bar(sampleCounts.index, \n",
    "        sampleCounts.values,\n",
    "        color = ['cornflowerblue', 'firebrick', 'green', 'orange'])\n",
    "plt.xticks(rotation=90)"
   ]
  },
  {
   "cell_type": "code",
   "execution_count": 74,
   "id": "84fedfe7",
   "metadata": {},
   "outputs": [],
   "source": [
    "cols = list(range(0, 295))\n",
    "brca_vs_normal = brca.iloc[ : , cols]\n",
    "brca_vs_normal['sample_type'] = brca[['sample_type']]\n",
    "brca_vs_normal['center'] = brca[['data_submitting_center_label']]"
   ]
  },
  {
   "cell_type": "code",
   "execution_count": 75,
   "id": "86a1b245",
   "metadata": {},
   "outputs": [
    {
     "name": "stdout",
     "output_type": "stream",
     "text": [
      "       sample_type\n",
      "count          304\n",
      "unique           2\n",
      "top           brca\n",
      "freq           176\n"
     ]
    }
   ],
   "source": [
    "brca_vs_normal['sample_type'] = brca_vs_normal['sample_type'].replace('Primary Tumor', 'brca')\n",
    "brca_vs_normal['sample_type'] = brca_vs_normal['sample_type'].replace('Blood Derived Normal', 'normal')\n",
    "brca_vs_normal['sample_type'] = brca_vs_normal['sample_type'].replace('Solid Tissue Normal', 'normal')\n",
    "brca_vs_normal['sample_type'] = brca_vs_normal['sample_type'].replace('Metastatic', 'brca')\n",
    "brca_vs_normal['sample_type'] = brca_vs_normal['sample_type'].replace('Recurrent Tumor', 'brca')\n",
    "brca_vs_normal['sample_type'] = brca_vs_normal['sample_type'].replace('Primary Blood Derived Cancer - Peripheral Blood', 'brca')\n",
    "\n",
    "\n",
    "print(brca_vs_normal[['sample_type']].describe())\n",
    "#print(brca_vs_normal)"
   ]
  },
  {
   "cell_type": "code",
   "execution_count": 76,
   "id": "da2a7214",
   "metadata": {},
   "outputs": [],
   "source": [
    "#making sample id as rownames\n",
    "brca_vs_normal.set_index('sampleid', \n",
    "                         inplace=True)"
   ]
  },
  {
   "cell_type": "code",
   "execution_count": 78,
   "id": "b73ccf43",
   "metadata": {
    "scrolled": false
   },
   "outputs": [
    {
     "data": {
      "text/plain": [
       "([0, 1], [Text(0, 0, 'brca'), Text(1, 0, 'normal')])"
      ]
     },
     "execution_count": 78,
     "metadata": {},
     "output_type": "execute_result"
    },
    {
     "data": {
      "image/png": "[encoded data removed]",
      "text/plain": [
       "<Figure size 640x480 with 1 Axes>"
      ]
     },
     "metadata": {},
     "output_type": "display_data"
    }
   ],
   "source": [
    "codedSampleCounts = brca_vs_normal['sample_type'].value_counts()\n",
    "#codedSampleCounts\n",
    "plt.bar(codedSampleCounts.index, \n",
    "        codedSampleCounts.values, \n",
    "        color = ['firebrick', 'cornflowerblue'])\n",
    "plt.xticks(rotation=90)"
   ]
  },
  {
   "cell_type": "code",
   "execution_count": 79,
   "id": "2008ffb8",
   "metadata": {},
   "outputs": [],
   "source": [
    "brca_vs_normal.to_csv(\"brca_vs_normal_raw.csv\")"
   ]
  },
  {
   "cell_type": "code",
   "execution_count": 80,
   "id": "284c8c78",
   "metadata": {},
   "outputs": [],
   "source": [
    "brca_vs_normal.iloc[: , 0:294] = brca_vs_normal.iloc[: , 0:294].replace(0, 1e-10)\n",
    "brca_vs_normal_logNormalized = np.log((brca_vs_normal.iloc[: , 0:294].div(brca_vs_normal.iloc[: , 0:294].sum(axis=1), axis=0)) + 1e-10)\n",
    "brca_vs_normal_logNormalized['sample_type'] = brca_vs_normal['sample_type']\n",
    "brca_vs_normal_logNormalized['center'] = brca_vs_normal['center']"
   ]
  },
  {
   "cell_type": "code",
   "execution_count": 81,
   "id": "05e4d36e",
   "metadata": {},
   "outputs": [],
   "source": [
    "brca_vs_normal_logNormalized.to_csv('brca_vs_normal.csv', index=False)"
   ]
  }
 ],
 "metadata": {
  "kernelspec": {
   "display_name": "Python 3 (ipykernel)",
   "language": "python",
   "name": "python3"
  },
  "language_info": {
   "codemirror_mode": {
    "name": "ipython",
    "version": 3
   },
   "file_extension": ".py",
   "mimetype": "text/x-python",
   "name": "python",
   "nbconvert_exporter": "python",
   "pygments_lexer": "ipython3",
   "version": "3.11.0"
  }
 },
 "nbformat": 4,
 "nbformat_minor": 5
}
